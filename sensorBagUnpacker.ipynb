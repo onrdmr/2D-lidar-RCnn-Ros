{
 "cells": [
  {
   "cell_type": "code",
   "execution_count": 1,
   "metadata": {},
   "outputs": [],
   "source": [
    "import bagpy\n",
    "from bagpy import bagreader\n",
    "import pandas as pd\n",
    "import numpy as np"
   ]
  },
  {
   "cell_type": "code",
   "execution_count": 2,
   "metadata": {},
   "outputs": [
    {
     "name": "stdout",
     "output_type": "stream",
     "text": [
      "[INFO]  Data folder /home/onur/sample2/wall1/sensors/2/front_scan already exists. Not creating.\n"
     ]
    }
   ],
   "source": [
    "b = bagreader('/home/onur/sample2/wall1/sensors/2/front_scan.bag')"
   ]
  },
  {
   "cell_type": "code",
   "execution_count": 3,
   "metadata": {},
   "outputs": [],
   "source": [
    "LASER_MSG = b.message_by_topic('/front/scan')\n",
    "\n",
    "df_laser=pd.read_csv(LASER_MSG)\n"
   ]
  },
  {
   "cell_type": "code",
   "execution_count": 4,
   "metadata": {},
   "outputs": [
    {
     "data": {
      "text/html": [
       "<div>\n",
       "<style scoped>\n",
       "    .dataframe tbody tr th:only-of-type {\n",
       "        vertical-align: middle;\n",
       "    }\n",
       "\n",
       "    .dataframe tbody tr th {\n",
       "        vertical-align: top;\n",
       "    }\n",
       "\n",
       "    .dataframe thead th {\n",
       "        text-align: right;\n",
       "    }\n",
       "</style>\n",
       "<table border=\"1\" class=\"dataframe\">\n",
       "  <thead>\n",
       "    <tr style=\"text-align: right;\">\n",
       "      <th></th>\n",
       "      <th>Time</th>\n",
       "      <th>header.seq</th>\n",
       "      <th>header.stamp.secs</th>\n",
       "      <th>header.stamp.nsecs</th>\n",
       "      <th>header.frame_id</th>\n",
       "      <th>angle_min</th>\n",
       "      <th>angle_max</th>\n",
       "      <th>angle_increment</th>\n",
       "      <th>time_increment</th>\n",
       "      <th>scan_time</th>\n",
       "      <th>...</th>\n",
       "      <th>intensities_3591</th>\n",
       "      <th>intensities_3592</th>\n",
       "      <th>intensities_3593</th>\n",
       "      <th>intensities_3594</th>\n",
       "      <th>intensities_3595</th>\n",
       "      <th>intensities_3596</th>\n",
       "      <th>intensities_3597</th>\n",
       "      <th>intensities_3598</th>\n",
       "      <th>intensities_3599</th>\n",
       "      <th>intensities_3600</th>\n",
       "    </tr>\n",
       "  </thead>\n",
       "  <tbody>\n",
       "    <tr>\n",
       "      <th>0</th>\n",
       "      <td>1.197</td>\n",
       "      <td>1309</td>\n",
       "      <td>1</td>\n",
       "      <td>167000000</td>\n",
       "      <td>front_laser</td>\n",
       "      <td>-3.14159</td>\n",
       "      <td>3.14159</td>\n",
       "      <td>0.001745</td>\n",
       "      <td>0.0</td>\n",
       "      <td>0.0</td>\n",
       "      <td>...</td>\n",
       "      <td>0.0</td>\n",
       "      <td>0.0</td>\n",
       "      <td>0.0</td>\n",
       "      <td>0.0</td>\n",
       "      <td>0.0</td>\n",
       "      <td>0.0</td>\n",
       "      <td>0.0</td>\n",
       "      <td>0.0</td>\n",
       "      <td>0.0</td>\n",
       "      <td>0.0</td>\n",
       "    </tr>\n",
       "    <tr>\n",
       "      <th>1</th>\n",
       "      <td>1.215</td>\n",
       "      <td>1310</td>\n",
       "      <td>1</td>\n",
       "      <td>185000000</td>\n",
       "      <td>front_laser</td>\n",
       "      <td>-3.14159</td>\n",
       "      <td>3.14159</td>\n",
       "      <td>0.001745</td>\n",
       "      <td>0.0</td>\n",
       "      <td>0.0</td>\n",
       "      <td>...</td>\n",
       "      <td>0.0</td>\n",
       "      <td>0.0</td>\n",
       "      <td>0.0</td>\n",
       "      <td>0.0</td>\n",
       "      <td>0.0</td>\n",
       "      <td>0.0</td>\n",
       "      <td>0.0</td>\n",
       "      <td>0.0</td>\n",
       "      <td>0.0</td>\n",
       "      <td>0.0</td>\n",
       "    </tr>\n",
       "    <tr>\n",
       "      <th>2</th>\n",
       "      <td>1.219</td>\n",
       "      <td>1311</td>\n",
       "      <td>1</td>\n",
       "      <td>215000000</td>\n",
       "      <td>front_laser</td>\n",
       "      <td>-3.14159</td>\n",
       "      <td>3.14159</td>\n",
       "      <td>0.001745</td>\n",
       "      <td>0.0</td>\n",
       "      <td>0.0</td>\n",
       "      <td>...</td>\n",
       "      <td>0.0</td>\n",
       "      <td>0.0</td>\n",
       "      <td>0.0</td>\n",
       "      <td>0.0</td>\n",
       "      <td>0.0</td>\n",
       "      <td>0.0</td>\n",
       "      <td>0.0</td>\n",
       "      <td>0.0</td>\n",
       "      <td>0.0</td>\n",
       "      <td>0.0</td>\n",
       "    </tr>\n",
       "    <tr>\n",
       "      <th>3</th>\n",
       "      <td>1.258</td>\n",
       "      <td>1312</td>\n",
       "      <td>1</td>\n",
       "      <td>234000000</td>\n",
       "      <td>front_laser</td>\n",
       "      <td>-3.14159</td>\n",
       "      <td>3.14159</td>\n",
       "      <td>0.001745</td>\n",
       "      <td>0.0</td>\n",
       "      <td>0.0</td>\n",
       "      <td>...</td>\n",
       "      <td>0.0</td>\n",
       "      <td>0.0</td>\n",
       "      <td>0.0</td>\n",
       "      <td>0.0</td>\n",
       "      <td>0.0</td>\n",
       "      <td>0.0</td>\n",
       "      <td>0.0</td>\n",
       "      <td>0.0</td>\n",
       "      <td>0.0</td>\n",
       "      <td>0.0</td>\n",
       "    </tr>\n",
       "    <tr>\n",
       "      <th>4</th>\n",
       "      <td>1.281</td>\n",
       "      <td>1313</td>\n",
       "      <td>1</td>\n",
       "      <td>254000000</td>\n",
       "      <td>front_laser</td>\n",
       "      <td>-3.14159</td>\n",
       "      <td>3.14159</td>\n",
       "      <td>0.001745</td>\n",
       "      <td>0.0</td>\n",
       "      <td>0.0</td>\n",
       "      <td>...</td>\n",
       "      <td>0.0</td>\n",
       "      <td>0.0</td>\n",
       "      <td>0.0</td>\n",
       "      <td>0.0</td>\n",
       "      <td>0.0</td>\n",
       "      <td>0.0</td>\n",
       "      <td>0.0</td>\n",
       "      <td>0.0</td>\n",
       "      <td>0.0</td>\n",
       "      <td>0.0</td>\n",
       "    </tr>\n",
       "    <tr>\n",
       "      <th>...</th>\n",
       "      <td>...</td>\n",
       "      <td>...</td>\n",
       "      <td>...</td>\n",
       "      <td>...</td>\n",
       "      <td>...</td>\n",
       "      <td>...</td>\n",
       "      <td>...</td>\n",
       "      <td>...</td>\n",
       "      <td>...</td>\n",
       "      <td>...</td>\n",
       "      <td>...</td>\n",
       "      <td>...</td>\n",
       "      <td>...</td>\n",
       "      <td>...</td>\n",
       "      <td>...</td>\n",
       "      <td>...</td>\n",
       "      <td>...</td>\n",
       "      <td>...</td>\n",
       "      <td>...</td>\n",
       "      <td>...</td>\n",
       "      <td>...</td>\n",
       "    </tr>\n",
       "    <tr>\n",
       "      <th>428</th>\n",
       "      <td>14.864</td>\n",
       "      <td>1761</td>\n",
       "      <td>11</td>\n",
       "      <td>1000000</td>\n",
       "      <td>front_laser</td>\n",
       "      <td>-3.14159</td>\n",
       "      <td>3.14159</td>\n",
       "      <td>0.001745</td>\n",
       "      <td>0.0</td>\n",
       "      <td>0.0</td>\n",
       "      <td>...</td>\n",
       "      <td>0.0</td>\n",
       "      <td>0.0</td>\n",
       "      <td>0.0</td>\n",
       "      <td>0.0</td>\n",
       "      <td>0.0</td>\n",
       "      <td>0.0</td>\n",
       "      <td>0.0</td>\n",
       "      <td>0.0</td>\n",
       "      <td>0.0</td>\n",
       "      <td>0.0</td>\n",
       "    </tr>\n",
       "    <tr>\n",
       "      <th>429</th>\n",
       "      <td>14.930</td>\n",
       "      <td>1762</td>\n",
       "      <td>11</td>\n",
       "      <td>24000000</td>\n",
       "      <td>front_laser</td>\n",
       "      <td>-3.14159</td>\n",
       "      <td>3.14159</td>\n",
       "      <td>0.001745</td>\n",
       "      <td>0.0</td>\n",
       "      <td>0.0</td>\n",
       "      <td>...</td>\n",
       "      <td>0.0</td>\n",
       "      <td>0.0</td>\n",
       "      <td>0.0</td>\n",
       "      <td>0.0</td>\n",
       "      <td>0.0</td>\n",
       "      <td>0.0</td>\n",
       "      <td>0.0</td>\n",
       "      <td>0.0</td>\n",
       "      <td>0.0</td>\n",
       "      <td>0.0</td>\n",
       "    </tr>\n",
       "    <tr>\n",
       "      <th>430</th>\n",
       "      <td>14.989</td>\n",
       "      <td>1763</td>\n",
       "      <td>11</td>\n",
       "      <td>50000000</td>\n",
       "      <td>front_laser</td>\n",
       "      <td>-3.14159</td>\n",
       "      <td>3.14159</td>\n",
       "      <td>0.001745</td>\n",
       "      <td>0.0</td>\n",
       "      <td>0.0</td>\n",
       "      <td>...</td>\n",
       "      <td>0.0</td>\n",
       "      <td>0.0</td>\n",
       "      <td>0.0</td>\n",
       "      <td>0.0</td>\n",
       "      <td>0.0</td>\n",
       "      <td>0.0</td>\n",
       "      <td>0.0</td>\n",
       "      <td>0.0</td>\n",
       "      <td>0.0</td>\n",
       "      <td>0.0</td>\n",
       "    </tr>\n",
       "    <tr>\n",
       "      <th>431</th>\n",
       "      <td>15.036</td>\n",
       "      <td>1764</td>\n",
       "      <td>11</td>\n",
       "      <td>65000000</td>\n",
       "      <td>front_laser</td>\n",
       "      <td>-3.14159</td>\n",
       "      <td>3.14159</td>\n",
       "      <td>0.001745</td>\n",
       "      <td>0.0</td>\n",
       "      <td>0.0</td>\n",
       "      <td>...</td>\n",
       "      <td>0.0</td>\n",
       "      <td>0.0</td>\n",
       "      <td>0.0</td>\n",
       "      <td>0.0</td>\n",
       "      <td>0.0</td>\n",
       "      <td>0.0</td>\n",
       "      <td>0.0</td>\n",
       "      <td>0.0</td>\n",
       "      <td>0.0</td>\n",
       "      <td>0.0</td>\n",
       "    </tr>\n",
       "    <tr>\n",
       "      <th>432</th>\n",
       "      <td>15.081</td>\n",
       "      <td>1765</td>\n",
       "      <td>11</td>\n",
       "      <td>85000000</td>\n",
       "      <td>front_laser</td>\n",
       "      <td>-3.14159</td>\n",
       "      <td>3.14159</td>\n",
       "      <td>0.001745</td>\n",
       "      <td>0.0</td>\n",
       "      <td>0.0</td>\n",
       "      <td>...</td>\n",
       "      <td>0.0</td>\n",
       "      <td>0.0</td>\n",
       "      <td>0.0</td>\n",
       "      <td>0.0</td>\n",
       "      <td>0.0</td>\n",
       "      <td>0.0</td>\n",
       "      <td>0.0</td>\n",
       "      <td>0.0</td>\n",
       "      <td>0.0</td>\n",
       "      <td>0.0</td>\n",
       "    </tr>\n",
       "  </tbody>\n",
       "</table>\n",
       "<p>433 rows × 7214 columns</p>\n",
       "</div>"
      ],
      "text/plain": [
       "       Time  header.seq  header.stamp.secs  header.stamp.nsecs  \\\n",
       "0     1.197        1309                  1           167000000   \n",
       "1     1.215        1310                  1           185000000   \n",
       "2     1.219        1311                  1           215000000   \n",
       "3     1.258        1312                  1           234000000   \n",
       "4     1.281        1313                  1           254000000   \n",
       "..      ...         ...                ...                 ...   \n",
       "428  14.864        1761                 11             1000000   \n",
       "429  14.930        1762                 11            24000000   \n",
       "430  14.989        1763                 11            50000000   \n",
       "431  15.036        1764                 11            65000000   \n",
       "432  15.081        1765                 11            85000000   \n",
       "\n",
       "    header.frame_id  angle_min  angle_max  angle_increment  time_increment  \\\n",
       "0       front_laser   -3.14159    3.14159         0.001745             0.0   \n",
       "1       front_laser   -3.14159    3.14159         0.001745             0.0   \n",
       "2       front_laser   -3.14159    3.14159         0.001745             0.0   \n",
       "3       front_laser   -3.14159    3.14159         0.001745             0.0   \n",
       "4       front_laser   -3.14159    3.14159         0.001745             0.0   \n",
       "..              ...        ...        ...              ...             ...   \n",
       "428     front_laser   -3.14159    3.14159         0.001745             0.0   \n",
       "429     front_laser   -3.14159    3.14159         0.001745             0.0   \n",
       "430     front_laser   -3.14159    3.14159         0.001745             0.0   \n",
       "431     front_laser   -3.14159    3.14159         0.001745             0.0   \n",
       "432     front_laser   -3.14159    3.14159         0.001745             0.0   \n",
       "\n",
       "     scan_time  ...  intensities_3591  intensities_3592  intensities_3593  \\\n",
       "0          0.0  ...               0.0               0.0               0.0   \n",
       "1          0.0  ...               0.0               0.0               0.0   \n",
       "2          0.0  ...               0.0               0.0               0.0   \n",
       "3          0.0  ...               0.0               0.0               0.0   \n",
       "4          0.0  ...               0.0               0.0               0.0   \n",
       "..         ...  ...               ...               ...               ...   \n",
       "428        0.0  ...               0.0               0.0               0.0   \n",
       "429        0.0  ...               0.0               0.0               0.0   \n",
       "430        0.0  ...               0.0               0.0               0.0   \n",
       "431        0.0  ...               0.0               0.0               0.0   \n",
       "432        0.0  ...               0.0               0.0               0.0   \n",
       "\n",
       "     intensities_3594  intensities_3595  intensities_3596  intensities_3597  \\\n",
       "0                 0.0               0.0               0.0               0.0   \n",
       "1                 0.0               0.0               0.0               0.0   \n",
       "2                 0.0               0.0               0.0               0.0   \n",
       "3                 0.0               0.0               0.0               0.0   \n",
       "4                 0.0               0.0               0.0               0.0   \n",
       "..                ...               ...               ...               ...   \n",
       "428               0.0               0.0               0.0               0.0   \n",
       "429               0.0               0.0               0.0               0.0   \n",
       "430               0.0               0.0               0.0               0.0   \n",
       "431               0.0               0.0               0.0               0.0   \n",
       "432               0.0               0.0               0.0               0.0   \n",
       "\n",
       "     intensities_3598  intensities_3599  intensities_3600  \n",
       "0                 0.0               0.0               0.0  \n",
       "1                 0.0               0.0               0.0  \n",
       "2                 0.0               0.0               0.0  \n",
       "3                 0.0               0.0               0.0  \n",
       "4                 0.0               0.0               0.0  \n",
       "..                ...               ...               ...  \n",
       "428               0.0               0.0               0.0  \n",
       "429               0.0               0.0               0.0  \n",
       "430               0.0               0.0               0.0  \n",
       "431               0.0               0.0               0.0  \n",
       "432               0.0               0.0               0.0  \n",
       "\n",
       "[433 rows x 7214 columns]"
      ]
     },
     "execution_count": 4,
     "metadata": {},
     "output_type": "execute_result"
    }
   ],
   "source": [
    "df_laser"
   ]
  },
  {
   "cell_type": "code",
   "execution_count": 5,
   "metadata": {},
   "outputs": [],
   "source": [
    "binData = np.array([ df_laser[\"ranges_\" + str(i)] for i in range(3601) ])"
   ]
  },
  {
   "cell_type": "code",
   "execution_count": 6,
   "metadata": {},
   "outputs": [
    {
     "data": {
      "text/plain": [
       "(3601, 433)"
      ]
     },
     "execution_count": 6,
     "metadata": {},
     "output_type": "execute_result"
    }
   ],
   "source": [
    "binData.shape"
   ]
  },
  {
   "cell_type": "code",
   "execution_count": 7,
   "metadata": {},
   "outputs": [],
   "source": [
    "lidarBinDataset = binData.transpose()"
   ]
  },
  {
   "cell_type": "code",
   "execution_count": 8,
   "metadata": {},
   "outputs": [
    {
     "data": {
      "text/plain": [
       "(433, 3601)"
      ]
     },
     "execution_count": 8,
     "metadata": {},
     "output_type": "execute_result"
    }
   ],
   "source": [
    "lidarBinDataset.shape"
   ]
  },
  {
   "cell_type": "code",
   "execution_count": 9,
   "metadata": {},
   "outputs": [
    {
     "name": "stdout",
     "output_type": "stream",
     "text": [
      "[INFO]  Data folder /home/onur/sample2/wall1/sensors/2/odometry already exists. Not creating.\n"
     ]
    }
   ],
   "source": [
    "o = bagreader('/home/onur/sample2/wall1/sensors/2/odometry.bag')"
   ]
  },
  {
   "cell_type": "code",
   "execution_count": 10,
   "metadata": {},
   "outputs": [],
   "source": [
    "ODOMETRY_MSG = o.message_by_topic('/ground_truth/state')\n",
    "\n",
    "df_odometry=pd.read_csv(ODOMETRY_MSG)\n"
   ]
  },
  {
   "cell_type": "code",
   "execution_count": 11,
   "metadata": {},
   "outputs": [
    {
     "data": {
      "text/html": [
       "<div>\n",
       "<style scoped>\n",
       "    .dataframe tbody tr th:only-of-type {\n",
       "        vertical-align: middle;\n",
       "    }\n",
       "\n",
       "    .dataframe tbody tr th {\n",
       "        vertical-align: top;\n",
       "    }\n",
       "\n",
       "    .dataframe thead th {\n",
       "        text-align: right;\n",
       "    }\n",
       "</style>\n",
       "<table border=\"1\" class=\"dataframe\">\n",
       "  <thead>\n",
       "    <tr style=\"text-align: right;\">\n",
       "      <th></th>\n",
       "      <th>Time</th>\n",
       "      <th>header.seq</th>\n",
       "      <th>header.stamp.secs</th>\n",
       "      <th>header.stamp.nsecs</th>\n",
       "      <th>header.frame_id</th>\n",
       "      <th>child_frame_id</th>\n",
       "      <th>pose.pose.position.x</th>\n",
       "      <th>pose.pose.position.y</th>\n",
       "      <th>pose.pose.position.z</th>\n",
       "      <th>pose.pose.orientation.x</th>\n",
       "      <th>...</th>\n",
       "      <th>pose.pose.orientation.z</th>\n",
       "      <th>pose.pose.orientation.w</th>\n",
       "      <th>pose.covariance</th>\n",
       "      <th>twist.twist.linear.x</th>\n",
       "      <th>twist.twist.linear.y</th>\n",
       "      <th>twist.twist.linear.z</th>\n",
       "      <th>twist.twist.angular.x</th>\n",
       "      <th>twist.twist.angular.y</th>\n",
       "      <th>twist.twist.angular.z</th>\n",
       "      <th>twist.covariance</th>\n",
       "    </tr>\n",
       "  </thead>\n",
       "  <tbody>\n",
       "    <tr>\n",
       "      <th>0</th>\n",
       "      <td>1.197</td>\n",
       "      <td>1392</td>\n",
       "      <td>1</td>\n",
       "      <td>175000000</td>\n",
       "      <td>world</td>\n",
       "      <td>base_link</td>\n",
       "      <td>-0.877767</td>\n",
       "      <td>0.835934</td>\n",
       "      <td>0.132279</td>\n",
       "      <td>-9.395504e-09</td>\n",
       "      <td>...</td>\n",
       "      <td>-0.996454</td>\n",
       "      <td>-0.084143</td>\n",
       "      <td>(0.0, 0.0, 0.0, 0.0, 0.0, 0.0, 0.0, 0.0, 0.0, ...</td>\n",
       "      <td>4.545174e-06</td>\n",
       "      <td>0.000033</td>\n",
       "      <td>0.005720</td>\n",
       "      <td>-0.000249</td>\n",
       "      <td>0.000040</td>\n",
       "      <td>2.568461e-09</td>\n",
       "      <td>(0.0, 0.0, 0.0, 0.0, 0.0, 0.0, 0.0, 0.0, 0.0, ...</td>\n",
       "    </tr>\n",
       "    <tr>\n",
       "      <th>1</th>\n",
       "      <td>1.215</td>\n",
       "      <td>1393</td>\n",
       "      <td>1</td>\n",
       "      <td>195000000</td>\n",
       "      <td>world</td>\n",
       "      <td>base_link</td>\n",
       "      <td>-0.847456</td>\n",
       "      <td>0.855841</td>\n",
       "      <td>0.132279</td>\n",
       "      <td>-4.713285e-09</td>\n",
       "      <td>...</td>\n",
       "      <td>-0.998925</td>\n",
       "      <td>-0.046357</td>\n",
       "      <td>(0.0, 0.0, 0.0, 0.0, 0.0, 0.0, 0.0, 0.0, 0.0, ...</td>\n",
       "      <td>2.036133e-06</td>\n",
       "      <td>0.000033</td>\n",
       "      <td>0.005720</td>\n",
       "      <td>-0.000251</td>\n",
       "      <td>0.000021</td>\n",
       "      <td>4.922202e-09</td>\n",
       "      <td>(0.0, 0.0, 0.0, 0.0, 0.0, 0.0, 0.0, 0.0, 0.0, ...</td>\n",
       "    </tr>\n",
       "    <tr>\n",
       "      <th>2</th>\n",
       "      <td>1.219</td>\n",
       "      <td>1394</td>\n",
       "      <td>1</td>\n",
       "      <td>215000000</td>\n",
       "      <td>world</td>\n",
       "      <td>base_link</td>\n",
       "      <td>-0.815512</td>\n",
       "      <td>0.876579</td>\n",
       "      <td>0.132279</td>\n",
       "      <td>1.724332e-10</td>\n",
       "      <td>...</td>\n",
       "      <td>-0.999974</td>\n",
       "      <td>-0.007207</td>\n",
       "      <td>(0.0, 0.0, 0.0, 0.0, 0.0, 0.0, 0.0, 0.0, 0.0, ...</td>\n",
       "      <td>-5.822375e-07</td>\n",
       "      <td>0.000033</td>\n",
       "      <td>0.005720</td>\n",
       "      <td>-0.000252</td>\n",
       "      <td>0.000001</td>\n",
       "      <td>7.516925e-09</td>\n",
       "      <td>(0.0, 0.0, 0.0, 0.0, 0.0, 0.0, 0.0, 0.0, 0.0, ...</td>\n",
       "    </tr>\n",
       "    <tr>\n",
       "      <th>3</th>\n",
       "      <td>1.258</td>\n",
       "      <td>1395</td>\n",
       "      <td>1</td>\n",
       "      <td>235000000</td>\n",
       "      <td>world</td>\n",
       "      <td>base_link</td>\n",
       "      <td>-0.782421</td>\n",
       "      <td>0.897967</td>\n",
       "      <td>0.132279</td>\n",
       "      <td>4.851188e-09</td>\n",
       "      <td>...</td>\n",
       "      <td>-0.999549</td>\n",
       "      <td>0.030017</td>\n",
       "      <td>(0.0, 0.0, 0.0, 0.0, 0.0, 0.0, 0.0, 0.0, 0.0, ...</td>\n",
       "      <td>-3.078883e-06</td>\n",
       "      <td>0.000033</td>\n",
       "      <td>0.005720</td>\n",
       "      <td>-0.000252</td>\n",
       "      <td>-0.000017</td>\n",
       "      <td>9.943801e-09</td>\n",
       "      <td>(0.0, 0.0, 0.0, 0.0, 0.0, 0.0, 0.0, 0.0, 0.0, ...</td>\n",
       "    </tr>\n",
       "    <tr>\n",
       "      <th>4</th>\n",
       "      <td>1.281</td>\n",
       "      <td>1396</td>\n",
       "      <td>1</td>\n",
       "      <td>255000000</td>\n",
       "      <td>world</td>\n",
       "      <td>base_link</td>\n",
       "      <td>-0.748670</td>\n",
       "      <td>0.919830</td>\n",
       "      <td>0.132279</td>\n",
       "      <td>8.914027e-09</td>\n",
       "      <td>...</td>\n",
       "      <td>-0.998074</td>\n",
       "      <td>0.062038</td>\n",
       "      <td>(0.0, 0.0, 0.0, 0.0, 0.0, 0.0, 0.0, 0.0, 0.0, ...</td>\n",
       "      <td>-5.227428e-06</td>\n",
       "      <td>0.000033</td>\n",
       "      <td>0.005720</td>\n",
       "      <td>-0.000250</td>\n",
       "      <td>-0.000034</td>\n",
       "      <td>1.188576e-08</td>\n",
       "      <td>(0.0, 0.0, 0.0, 0.0, 0.0, 0.0, 0.0, 0.0, 0.0, ...</td>\n",
       "    </tr>\n",
       "    <tr>\n",
       "      <th>...</th>\n",
       "      <td>...</td>\n",
       "      <td>...</td>\n",
       "      <td>...</td>\n",
       "      <td>...</td>\n",
       "      <td>...</td>\n",
       "      <td>...</td>\n",
       "      <td>...</td>\n",
       "      <td>...</td>\n",
       "      <td>...</td>\n",
       "      <td>...</td>\n",
       "      <td>...</td>\n",
       "      <td>...</td>\n",
       "      <td>...</td>\n",
       "      <td>...</td>\n",
       "      <td>...</td>\n",
       "      <td>...</td>\n",
       "      <td>...</td>\n",
       "      <td>...</td>\n",
       "      <td>...</td>\n",
       "      <td>...</td>\n",
       "      <td>...</td>\n",
       "    </tr>\n",
       "    <tr>\n",
       "      <th>428</th>\n",
       "      <td>14.864</td>\n",
       "      <td>1883</td>\n",
       "      <td>10</td>\n",
       "      <td>995000000</td>\n",
       "      <td>world</td>\n",
       "      <td>base_link</td>\n",
       "      <td>-1.552962</td>\n",
       "      <td>0.333312</td>\n",
       "      <td>0.132277</td>\n",
       "      <td>1.624642e-06</td>\n",
       "      <td>...</td>\n",
       "      <td>0.671485</td>\n",
       "      <td>-0.741018</td>\n",
       "      <td>(0.0, 0.0, 0.0, 0.0, 0.0, 0.0, 0.0, 0.0, 0.0, ...</td>\n",
       "      <td>1.303119e-03</td>\n",
       "      <td>-0.002645</td>\n",
       "      <td>0.003942</td>\n",
       "      <td>0.002244</td>\n",
       "      <td>0.006890</td>\n",
       "      <td>1.081717e-03</td>\n",
       "      <td>(0.0, 0.0, 0.0, 0.0, 0.0, 0.0, 0.0, 0.0, 0.0, ...</td>\n",
       "    </tr>\n",
       "    <tr>\n",
       "      <th>429</th>\n",
       "      <td>14.930</td>\n",
       "      <td>1884</td>\n",
       "      <td>11</td>\n",
       "      <td>15000000</td>\n",
       "      <td>world</td>\n",
       "      <td>base_link</td>\n",
       "      <td>-1.548296</td>\n",
       "      <td>0.329202</td>\n",
       "      <td>0.132277</td>\n",
       "      <td>-1.397158e-06</td>\n",
       "      <td>...</td>\n",
       "      <td>-0.707375</td>\n",
       "      <td>0.706838</td>\n",
       "      <td>(0.0, 0.0, 0.0, 0.0, 0.0, 0.0, 0.0, 0.0, 0.0, ...</td>\n",
       "      <td>9.866984e-04</td>\n",
       "      <td>-0.002849</td>\n",
       "      <td>0.003968</td>\n",
       "      <td>0.002997</td>\n",
       "      <td>0.006525</td>\n",
       "      <td>9.275171e-04</td>\n",
       "      <td>(0.0, 0.0, 0.0, 0.0, 0.0, 0.0, 0.0, 0.0, 0.0, ...</td>\n",
       "    </tr>\n",
       "    <tr>\n",
       "      <th>430</th>\n",
       "      <td>14.989</td>\n",
       "      <td>1886</td>\n",
       "      <td>11</td>\n",
       "      <td>55000000</td>\n",
       "      <td>world</td>\n",
       "      <td>base_link</td>\n",
       "      <td>-1.534761</td>\n",
       "      <td>0.324663</td>\n",
       "      <td>0.132277</td>\n",
       "      <td>-1.377917e-06</td>\n",
       "      <td>...</td>\n",
       "      <td>-0.705638</td>\n",
       "      <td>0.708573</td>\n",
       "      <td>(0.0, 0.0, 0.0, 0.0, 0.0, 0.0, 0.0, 0.0, 0.0, ...</td>\n",
       "      <td>9.917063e-04</td>\n",
       "      <td>-0.002808</td>\n",
       "      <td>0.003939</td>\n",
       "      <td>0.003039</td>\n",
       "      <td>0.006525</td>\n",
       "      <td>9.911888e-04</td>\n",
       "      <td>(0.0, 0.0, 0.0, 0.0, 0.0, 0.0, 0.0, 0.0, 0.0, ...</td>\n",
       "    </tr>\n",
       "    <tr>\n",
       "      <th>431</th>\n",
       "      <td>15.036</td>\n",
       "      <td>1887</td>\n",
       "      <td>11</td>\n",
       "      <td>75000000</td>\n",
       "      <td>world</td>\n",
       "      <td>base_link</td>\n",
       "      <td>-1.526116</td>\n",
       "      <td>0.324067</td>\n",
       "      <td>0.132277</td>\n",
       "      <td>-1.424792e-06</td>\n",
       "      <td>...</td>\n",
       "      <td>-0.695221</td>\n",
       "      <td>0.718796</td>\n",
       "      <td>(0.0, 0.0, 0.0, 0.0, 0.0, 0.0, 0.0, 0.0, 0.0, ...</td>\n",
       "      <td>1.080488e-03</td>\n",
       "      <td>-0.002774</td>\n",
       "      <td>0.003938</td>\n",
       "      <td>0.002863</td>\n",
       "      <td>0.006611</td>\n",
       "      <td>1.012290e-03</td>\n",
       "      <td>(0.0, 0.0, 0.0, 0.0, 0.0, 0.0, 0.0, 0.0, 0.0, ...</td>\n",
       "    </tr>\n",
       "    <tr>\n",
       "      <th>432</th>\n",
       "      <td>15.081</td>\n",
       "      <td>1888</td>\n",
       "      <td>11</td>\n",
       "      <td>95000000</td>\n",
       "      <td>world</td>\n",
       "      <td>base_link</td>\n",
       "      <td>-1.516427</td>\n",
       "      <td>0.324545</td>\n",
       "      <td>0.132277</td>\n",
       "      <td>-1.494691e-06</td>\n",
       "      <td>...</td>\n",
       "      <td>-0.678792</td>\n",
       "      <td>0.734331</td>\n",
       "      <td>(0.0, 0.0, 0.0, 0.0, 0.0, 0.0, 0.0, 0.0, 0.0, ...</td>\n",
       "      <td>1.212573e-03</td>\n",
       "      <td>-0.002719</td>\n",
       "      <td>0.003940</td>\n",
       "      <td>0.002571</td>\n",
       "      <td>0.006734</td>\n",
       "      <td>1.026236e-03</td>\n",
       "      <td>(0.0, 0.0, 0.0, 0.0, 0.0, 0.0, 0.0, 0.0, 0.0, ...</td>\n",
       "    </tr>\n",
       "  </tbody>\n",
       "</table>\n",
       "<p>433 rows × 21 columns</p>\n",
       "</div>"
      ],
      "text/plain": [
       "       Time  header.seq  header.stamp.secs  header.stamp.nsecs  \\\n",
       "0     1.197        1392                  1           175000000   \n",
       "1     1.215        1393                  1           195000000   \n",
       "2     1.219        1394                  1           215000000   \n",
       "3     1.258        1395                  1           235000000   \n",
       "4     1.281        1396                  1           255000000   \n",
       "..      ...         ...                ...                 ...   \n",
       "428  14.864        1883                 10           995000000   \n",
       "429  14.930        1884                 11            15000000   \n",
       "430  14.989        1886                 11            55000000   \n",
       "431  15.036        1887                 11            75000000   \n",
       "432  15.081        1888                 11            95000000   \n",
       "\n",
       "    header.frame_id child_frame_id  pose.pose.position.x  \\\n",
       "0             world      base_link             -0.877767   \n",
       "1             world      base_link             -0.847456   \n",
       "2             world      base_link             -0.815512   \n",
       "3             world      base_link             -0.782421   \n",
       "4             world      base_link             -0.748670   \n",
       "..              ...            ...                   ...   \n",
       "428           world      base_link             -1.552962   \n",
       "429           world      base_link             -1.548296   \n",
       "430           world      base_link             -1.534761   \n",
       "431           world      base_link             -1.526116   \n",
       "432           world      base_link             -1.516427   \n",
       "\n",
       "     pose.pose.position.y  pose.pose.position.z  pose.pose.orientation.x  ...  \\\n",
       "0                0.835934              0.132279            -9.395504e-09  ...   \n",
       "1                0.855841              0.132279            -4.713285e-09  ...   \n",
       "2                0.876579              0.132279             1.724332e-10  ...   \n",
       "3                0.897967              0.132279             4.851188e-09  ...   \n",
       "4                0.919830              0.132279             8.914027e-09  ...   \n",
       "..                    ...                   ...                      ...  ...   \n",
       "428              0.333312              0.132277             1.624642e-06  ...   \n",
       "429              0.329202              0.132277            -1.397158e-06  ...   \n",
       "430              0.324663              0.132277            -1.377917e-06  ...   \n",
       "431              0.324067              0.132277            -1.424792e-06  ...   \n",
       "432              0.324545              0.132277            -1.494691e-06  ...   \n",
       "\n",
       "     pose.pose.orientation.z  pose.pose.orientation.w  \\\n",
       "0                  -0.996454                -0.084143   \n",
       "1                  -0.998925                -0.046357   \n",
       "2                  -0.999974                -0.007207   \n",
       "3                  -0.999549                 0.030017   \n",
       "4                  -0.998074                 0.062038   \n",
       "..                       ...                      ...   \n",
       "428                 0.671485                -0.741018   \n",
       "429                -0.707375                 0.706838   \n",
       "430                -0.705638                 0.708573   \n",
       "431                -0.695221                 0.718796   \n",
       "432                -0.678792                 0.734331   \n",
       "\n",
       "                                       pose.covariance twist.twist.linear.x  \\\n",
       "0    (0.0, 0.0, 0.0, 0.0, 0.0, 0.0, 0.0, 0.0, 0.0, ...         4.545174e-06   \n",
       "1    (0.0, 0.0, 0.0, 0.0, 0.0, 0.0, 0.0, 0.0, 0.0, ...         2.036133e-06   \n",
       "2    (0.0, 0.0, 0.0, 0.0, 0.0, 0.0, 0.0, 0.0, 0.0, ...        -5.822375e-07   \n",
       "3    (0.0, 0.0, 0.0, 0.0, 0.0, 0.0, 0.0, 0.0, 0.0, ...        -3.078883e-06   \n",
       "4    (0.0, 0.0, 0.0, 0.0, 0.0, 0.0, 0.0, 0.0, 0.0, ...        -5.227428e-06   \n",
       "..                                                 ...                  ...   \n",
       "428  (0.0, 0.0, 0.0, 0.0, 0.0, 0.0, 0.0, 0.0, 0.0, ...         1.303119e-03   \n",
       "429  (0.0, 0.0, 0.0, 0.0, 0.0, 0.0, 0.0, 0.0, 0.0, ...         9.866984e-04   \n",
       "430  (0.0, 0.0, 0.0, 0.0, 0.0, 0.0, 0.0, 0.0, 0.0, ...         9.917063e-04   \n",
       "431  (0.0, 0.0, 0.0, 0.0, 0.0, 0.0, 0.0, 0.0, 0.0, ...         1.080488e-03   \n",
       "432  (0.0, 0.0, 0.0, 0.0, 0.0, 0.0, 0.0, 0.0, 0.0, ...         1.212573e-03   \n",
       "\n",
       "     twist.twist.linear.y  twist.twist.linear.z  twist.twist.angular.x  \\\n",
       "0                0.000033              0.005720              -0.000249   \n",
       "1                0.000033              0.005720              -0.000251   \n",
       "2                0.000033              0.005720              -0.000252   \n",
       "3                0.000033              0.005720              -0.000252   \n",
       "4                0.000033              0.005720              -0.000250   \n",
       "..                    ...                   ...                    ...   \n",
       "428             -0.002645              0.003942               0.002244   \n",
       "429             -0.002849              0.003968               0.002997   \n",
       "430             -0.002808              0.003939               0.003039   \n",
       "431             -0.002774              0.003938               0.002863   \n",
       "432             -0.002719              0.003940               0.002571   \n",
       "\n",
       "     twist.twist.angular.y  twist.twist.angular.z  \\\n",
       "0                 0.000040           2.568461e-09   \n",
       "1                 0.000021           4.922202e-09   \n",
       "2                 0.000001           7.516925e-09   \n",
       "3                -0.000017           9.943801e-09   \n",
       "4                -0.000034           1.188576e-08   \n",
       "..                     ...                    ...   \n",
       "428               0.006890           1.081717e-03   \n",
       "429               0.006525           9.275171e-04   \n",
       "430               0.006525           9.911888e-04   \n",
       "431               0.006611           1.012290e-03   \n",
       "432               0.006734           1.026236e-03   \n",
       "\n",
       "                                      twist.covariance  \n",
       "0    (0.0, 0.0, 0.0, 0.0, 0.0, 0.0, 0.0, 0.0, 0.0, ...  \n",
       "1    (0.0, 0.0, 0.0, 0.0, 0.0, 0.0, 0.0, 0.0, 0.0, ...  \n",
       "2    (0.0, 0.0, 0.0, 0.0, 0.0, 0.0, 0.0, 0.0, 0.0, ...  \n",
       "3    (0.0, 0.0, 0.0, 0.0, 0.0, 0.0, 0.0, 0.0, 0.0, ...  \n",
       "4    (0.0, 0.0, 0.0, 0.0, 0.0, 0.0, 0.0, 0.0, 0.0, ...  \n",
       "..                                                 ...  \n",
       "428  (0.0, 0.0, 0.0, 0.0, 0.0, 0.0, 0.0, 0.0, 0.0, ...  \n",
       "429  (0.0, 0.0, 0.0, 0.0, 0.0, 0.0, 0.0, 0.0, 0.0, ...  \n",
       "430  (0.0, 0.0, 0.0, 0.0, 0.0, 0.0, 0.0, 0.0, 0.0, ...  \n",
       "431  (0.0, 0.0, 0.0, 0.0, 0.0, 0.0, 0.0, 0.0, 0.0, ...  \n",
       "432  (0.0, 0.0, 0.0, 0.0, 0.0, 0.0, 0.0, 0.0, 0.0, ...  \n",
       "\n",
       "[433 rows x 21 columns]"
      ]
     },
     "execution_count": 11,
     "metadata": {},
     "output_type": "execute_result"
    }
   ],
   "source": [
    "df_odometry"
   ]
  },
  {
   "cell_type": "code",
   "execution_count": 12,
   "metadata": {},
   "outputs": [],
   "source": [
    "odometryPosData=np.vstack((df_odometry[\"pose.pose.position.x\"] , df_odometry[\"pose.pose.position.y\"], df_odometry[\"pose.pose.orientation.z\"]) )"
   ]
  },
  {
   "cell_type": "code",
   "execution_count": 13,
   "metadata": {},
   "outputs": [],
   "source": [
    "odometryPosData=odometryPosData.transpose()"
   ]
  },
  {
   "cell_type": "code",
   "execution_count": 17,
   "metadata": {},
   "outputs": [
    {
     "data": {
      "text/plain": [
       "((433, 3), (433, 3601))"
      ]
     },
     "execution_count": 17,
     "metadata": {},
     "output_type": "execute_result"
    }
   ],
   "source": [
    "odometryPosData.shape, lidarBinDataset.shape"
   ]
  },
  {
   "cell_type": "code",
   "execution_count": 15,
   "metadata": {},
   "outputs": [
    {
     "data": {
      "text/plain": [
       "array([-0.99937393, -0.99154539, -0.96743038, -0.91471027, -0.81757163,\n",
       "       -0.40621812, -0.28351716,  0.37357041,  0.42644884,  0.4780677 ])"
      ]
     },
     "execution_count": 15,
     "metadata": {},
     "output_type": "execute_result"
    }
   ],
   "source": [
    "odometryPosData[:,2][10:20]"
   ]
  },
  {
   "cell_type": "code",
   "execution_count": 16,
   "metadata": {},
   "outputs": [],
   "source": [
    "import matplotlib.pyplot as plt\n",
    "def plotAngleBin(ax,angleBin):\n",
    "    ax.cla()\n",
    "    ax.scatter(0,0)\n",
    "    xList = []\n",
    "    yList = []\n",
    "    for angle, bin in enumerate(angleBin):\n",
    "        if bin > 0:\n",
    "            y=bin*np.sin(np.deg2rad(angle*0.1))\n",
    "            x=bin*np.cos(np.deg2rad(angle*0.1))\n",
    "            xList.append(x)\n",
    "            yList.append(y)\n",
    "            # ax.scatter(x,y)\n",
    "    ax.scatter(xList,yList)\n",
    "    plt.pause(0.00000000000001)\n",
    "    plt.show()"
   ]
  },
  {
   "cell_type": "code",
   "execution_count": 20,
   "metadata": {},
   "outputs": [
    {
     "name": "stderr",
     "output_type": "stream",
     "text": [
      "kf5.kconfig.core: \"KConfigIni: In file /etc/matplotlibrc, line 42: \" Invalid entry (missing '=')\n",
      "kf5.kconfig.core: \"KConfigIni: In file /etc/matplotlibrc, line 42: \" Invalid entry (missing '=')\n"
     ]
    }
   ],
   "source": [
    "%matplotlib qt\n",
    "\n",
    "ax = plt.axes()\n",
    "ax.set_aspect('equal', adjustable='box')\n",
    "for i in range(2,len(lidarBinDataset)):\n",
    " translation_diff = np.sqrt((odometryPosData[i][0] - odometryPosData[i-1][0]) ** 2 + ( odometryPosData[i][1] - odometryPosData[i-1][1] )** 2  )\n",
    " \n",
    " text = ax.figure.text(0.1,0.1, \"translation:{translation} rotation:{rotation}\".format(translation=translation_diff, rotation=odometryPosData[i][2]))\n",
    " plotAngleBin(ax, lidarBinDataset[i])\n",
    " text.remove()\n"
   ]
  },
  {
   "cell_type": "code",
   "execution_count": 51,
   "metadata": {},
   "outputs": [
    {
     "data": {
      "text/plain": [
       "[<matplotlib.lines.Line2D at 0x7fdc6c9042b0>]"
      ]
     },
     "execution_count": 51,
     "metadata": {},
     "output_type": "execute_result"
    },
    {
     "data": {
      "image/png": "[encoded data removed]",
      "text/plain": [
       "<Figure size 640x480 with 1 Axes>"
      ]
     },
     "metadata": {},
     "output_type": "display_data"
    }
   ],
   "source": [
    "%matplotlib inline\n",
    "plt.plot(odometryPosData[:,2])"
   ]
  },
  {
   "cell_type": "code",
   "execution_count": 24,
   "metadata": {},
   "outputs": [
    {
     "data": {
      "text/plain": [
       "[<matplotlib.lines.Line2D at 0x7fdcb06add90>]"
      ]
     },
     "execution_count": 24,
     "metadata": {},
     "output_type": "execute_result"
    },
    {
     "data": {
      "image/png": "[encoded data removed]",
      "text/plain": [
       "<Figure size 640x480 with 1 Axes>"
      ]
     },
     "metadata": {},
     "output_type": "display_data"
    }
   ],
   "source": [
    "%matplotlib inline\n",
    "plt.ylim([-0.2,0.2])\n",
    "plt.plot(odometryPosData[1:,2] - odometryPosData[:-1,2] )"
   ]
  },
  {
   "cell_type": "code",
   "execution_count": 25,
   "metadata": {},
   "outputs": [
    {
     "data": {
      "text/plain": [
       "(array([  1.,   0.,   0.,   0.,   0.,   0.,   0.,   0.,   0.,   0.,   0.,\n",
       "          0.,   0.,   0.,   0.,   0.,   0.,   0.,   0.,   0.,   0.,   0.,\n",
       "          1.,   0.,   0.,   0.,   0.,   0.,   1.,   0.,   0.,   0.,   0.,\n",
       "          0.,   0.,   0.,   0.,   0.,   0.,   0.,   0.,   0.,   0.,   0.,\n",
       "          0.,   0.,   0.,   0.,   0.,   0.,   0.,   0.,   0.,   0.,   0.,\n",
       "          0.,   0.,   0.,   0.,   0.,   0.,   0.,   0.,   0.,   0.,   0.,\n",
       "          0.,   0.,   0.,   0.,   0.,   0.,   0.,   0.,   0.,   0.,   1.,\n",
       "          0.,   0.,   0.,   0.,   0.,   0.,   0.,   0.,   0.,   0.,   0.,\n",
       "          0.,   1.,   0.,   1.,   4.,  18.,  40.,  80., 127.,  70.,  36.,\n",
       "         29.,  10.,   5.,   3.,   1.,   0.,   0.,   0.,   0.,   0.,   0.,\n",
       "          0.,   0.,   0.,   0.,   0.,   0.,   0.,   0.,   1.,   0.,   0.,\n",
       "          0.,   0.,   0.,   0.,   0.,   0.,   0.,   0.,   0.,   0.,   1.,\n",
       "          0.,   0.,   0.,   0.,   0.,   0.,   0.,   0.,   0.,   0.,   0.,\n",
       "          0.,   0.,   0.,   0.,   0.,   0.,   0.,   0.,   0.,   0.,   0.,\n",
       "          0.,   0.,   0.,   0.,   0.,   0.,   0.,   0.,   0.,   0.,   0.,\n",
       "          0.,   0.,   0.,   0.,   0.,   0.,   0.,   0.,   0.,   0.,   0.,\n",
       "          0.,   0.,   0.,   0.,   0.,   0.,   0.,   0.,   0.,   0.,   0.,\n",
       "          0.,   0.,   0.,   0.,   0.,   0.,   0.,   0.,   0.,   0.,   0.,\n",
       "          0.,   1.]),\n",
       " array([-1.79349019, -1.77488228, -1.75627437, -1.73766646, -1.71905855,\n",
       "        -1.70045064, -1.68184273, -1.66323481, -1.6446269 , -1.62601899,\n",
       "        -1.60741108, -1.58880317, -1.57019526, -1.55158735, -1.53297944,\n",
       "        -1.51437153, -1.49576362, -1.47715571, -1.4585478 , -1.43993989,\n",
       "        -1.42133198, -1.40272406, -1.38411615, -1.36550824, -1.34690033,\n",
       "        -1.32829242, -1.30968451, -1.2910766 , -1.27246869, -1.25386078,\n",
       "        -1.23525287, -1.21664496, -1.19803705, -1.17942914, -1.16082122,\n",
       "        -1.14221331, -1.1236054 , -1.10499749, -1.08638958, -1.06778167,\n",
       "        -1.04917376, -1.03056585, -1.01195794, -0.99335003, -0.97474212,\n",
       "        -0.95613421, -0.9375263 , -0.91891838, -0.90031047, -0.88170256,\n",
       "        -0.86309465, -0.84448674, -0.82587883, -0.80727092, -0.78866301,\n",
       "        -0.7700551 , -0.75144719, -0.73283928, -0.71423137, -0.69562346,\n",
       "        -0.67701554, -0.65840763, -0.63979972, -0.62119181, -0.6025839 ,\n",
       "        -0.58397599, -0.56536808, -0.54676017, -0.52815226, -0.50954435,\n",
       "        -0.49093644, -0.47232853, -0.45372062, -0.43511271, -0.41650479,\n",
       "        -0.39789688, -0.37928897, -0.36068106, -0.34207315, -0.32346524,\n",
       "        -0.30485733, -0.28624942, -0.26764151, -0.2490336 , -0.23042569,\n",
       "        -0.21181778, -0.19320987, -0.17460195, -0.15599404, -0.13738613,\n",
       "        -0.11877822, -0.10017031, -0.0815624 , -0.06295449, -0.04434658,\n",
       "        -0.02573867, -0.00713076,  0.01147715,  0.03008506,  0.04869297,\n",
       "         0.06730089,  0.0859088 ,  0.10451671,  0.12312462,  0.14173253,\n",
       "         0.16034044,  0.17894835,  0.19755626,  0.21616417,  0.23477208,\n",
       "         0.25337999,  0.2719879 ,  0.29059581,  0.30920373,  0.32781164,\n",
       "         0.34641955,  0.36502746,  0.38363537,  0.40224328,  0.42085119,\n",
       "         0.4394591 ,  0.45806701,  0.47667492,  0.49528283,  0.51389074,\n",
       "         0.53249865,  0.55110656,  0.56971448,  0.58832239,  0.6069303 ,\n",
       "         0.62553821,  0.64414612,  0.66275403,  0.68136194,  0.69996985,\n",
       "         0.71857776,  0.73718567,  0.75579358,  0.77440149,  0.7930094 ,\n",
       "         0.81161732,  0.83022523,  0.84883314,  0.86744105,  0.88604896,\n",
       "         0.90465687,  0.92326478,  0.94187269,  0.9604806 ,  0.97908851,\n",
       "         0.99769642,  1.01630433,  1.03491224,  1.05352016,  1.07212807,\n",
       "         1.09073598,  1.10934389,  1.1279518 ,  1.14655971,  1.16516762,\n",
       "         1.18377553,  1.20238344,  1.22099135,  1.23959926,  1.25820717,\n",
       "         1.27681508,  1.295423  ,  1.31403091,  1.33263882,  1.35124673,\n",
       "         1.36985464,  1.38846255,  1.40707046,  1.42567837,  1.44428628,\n",
       "         1.46289419,  1.4815021 ,  1.50011001,  1.51871792,  1.53732583,\n",
       "         1.55593375,  1.57454166,  1.59314957,  1.61175748,  1.63036539,\n",
       "         1.6489733 ,  1.66758121,  1.68618912,  1.70479703,  1.72340494,\n",
       "         1.74201285,  1.76062076,  1.77922867,  1.79783659,  1.8164445 ,\n",
       "         1.83505241,  1.85366032,  1.87226823,  1.89087614,  1.90948405,\n",
       "         1.92809196]),\n",
       " <a list of 200 Patch objects>)"
      ]
     },
     "execution_count": 25,
     "metadata": {},
     "output_type": "execute_result"
    },
    {
     "data": {
      "image/png": "[encoded data removed]",
      "text/plain": [
       "<Figure size 640x480 with 1 Axes>"
      ]
     },
     "metadata": {},
     "output_type": "display_data"
    }
   ],
   "source": [
    "plt.xlim([-0.2,0.2])\n",
    "plt.hist(odometryPosData[1:,2] - odometryPosData[:-1,2],bins=200)"
   ]
  },
  {
   "cell_type": "code",
   "execution_count": 26,
   "metadata": {},
   "outputs": [
    {
     "name": "stderr",
     "output_type": "stream",
     "text": [
      "/tmp/ipykernel_21790/4135595634.py:1: RuntimeWarning: invalid value encountered in sqrt\n",
      "  np.sqrt(odometryPosData[2][0] ** 2 + odometryPosData[2][1] ** 2 - (odometryPosData[1][0] ** 2 + odometryPosData[1][1] ** 2))\n"
     ]
    },
    {
     "data": {
      "text/plain": [
       "nan"
      ]
     },
     "execution_count": 26,
     "metadata": {},
     "output_type": "execute_result"
    }
   ],
   "source": [
    "np.sqrt(odometryPosData[2][0] ** 2 + odometryPosData[2][1] ** 2 - (odometryPosData[1][0] ** 2 + odometryPosData[1][1] ** 2))"
   ]
  },
  {
   "cell_type": "code",
   "execution_count": 35,
   "metadata": {},
   "outputs": [],
   "source": [
    "dataset_translation = np.sqrt((odometryPosData[1:,0] - odometryPosData[:-1,0]) ** 2 + (odometryPosData[1:,1] - odometryPosData[:-1,1]) ** 2 )"
   ]
  },
  {
   "cell_type": "code",
   "execution_count": 36,
   "metadata": {},
   "outputs": [],
   "source": [
    "dataset_rotation = odometryPosData[1:,2] - odometryPosData[:-1,2]"
   ]
  },
  {
   "cell_type": "code",
   "execution_count": 52,
   "metadata": {},
   "outputs": [
    {
     "data": {
      "text/plain": [
       "(432, 432)"
      ]
     },
     "execution_count": 52,
     "metadata": {},
     "output_type": "execute_result"
    }
   ],
   "source": [
    "len(dataset_translation), len(lidarBinDataset[1:])"
   ]
  },
  {
   "cell_type": "code",
   "execution_count": 47,
   "metadata": {},
   "outputs": [
    {
     "data": {
      "text/plain": [
       "[<matplotlib.lines.Line2D at 0x7fdc6ca20190>]"
      ]
     },
     "execution_count": 47,
     "metadata": {},
     "output_type": "execute_result"
    },
    {
     "data": {
      "image/png": "[encoded data removed]",
      "text/plain": [
       "<Figure size 640x480 with 1 Axes>"
      ]
     },
     "metadata": {},
     "output_type": "display_data"
    }
   ],
   "source": [
    "plt.plot(dataset_translation)"
   ]
  },
  {
   "cell_type": "code",
   "execution_count": 49,
   "metadata": {},
   "outputs": [
    {
     "data": {
      "text/plain": [
       "(array([ 50.,  60., 112., 123.,  47.,  15.,   8.,   8.,   7.,   2.]),\n",
       " array([0.00240913, 0.01343188, 0.02445464, 0.0354774 , 0.04650016,\n",
       "        0.05752292, 0.06854567, 0.07956843, 0.09059119, 0.10161395,\n",
       "        0.1126367 ]),\n",
       " <a list of 10 Patch objects>)"
      ]
     },
     "execution_count": 49,
     "metadata": {},
     "output_type": "execute_result"
    },
    {
     "data": {
      "image/png": "[encoded data removed]",
      "text/plain": [
       "<Figure size 640x480 with 1 Axes>"
      ]
     },
     "metadata": {},
     "output_type": "display_data"
    }
   ],
   "source": [
    "plt.hist(dataset_translation)"
   ]
  },
  {
   "cell_type": "code",
   "execution_count": 50,
   "metadata": {},
   "outputs": [
    {
     "data": {
      "text/plain": [
       "(432, 2)"
      ]
     },
     "execution_count": 50,
     "metadata": {},
     "output_type": "execute_result"
    }
   ],
   "source": [
    "label = np.array([dataset_translation, dataset_rotation])\n",
    "label = label.transpose()\n",
    "label.shape"
   ]
  },
  {
   "cell_type": "code",
   "execution_count": 44,
   "metadata": {},
   "outputs": [
    {
     "data": {
      "text/plain": [
       "((433, 3601), (432, 2))"
      ]
     },
     "execution_count": 44,
     "metadata": {},
     "output_type": "execute_result"
    }
   ],
   "source": [
    "lidarBinDataset.shape, label.shape"
   ]
  },
  {
   "cell_type": "code",
   "execution_count": 41,
   "metadata": {},
   "outputs": [],
   "source": [
    "binDataset = np.array({'lidarDataset':lidarBinDataset,'labelDataset': label})"
   ]
  },
  {
   "cell_type": "code",
   "execution_count": 42,
   "metadata": {},
   "outputs": [
    {
     "data": {
      "text/plain": [
       "()"
      ]
     },
     "execution_count": 42,
     "metadata": {},
     "output_type": "execute_result"
    }
   ],
   "source": [
    "binDataset.shape"
   ]
  },
  {
   "cell_type": "code",
   "execution_count": 62,
   "metadata": {},
   "outputs": [],
   "source": [
    "np.save(arr=binDataset, file=\"/home/ftpuser/ftp/files/dataset/example\")"
   ]
  }
 ],
 "metadata": {
  "kernelspec": {
   "display_name": "Python 3",
   "language": "python",
   "name": "python3"
  },
  "language_info": {
   "codemirror_mode": {
    "name": "ipython",
    "version": 3
   },
   "file_extension": ".py",
   "mimetype": "text/x-python",
   "name": "python",
   "nbconvert_exporter": "python",
   "pygments_lexer": "ipython3",
   "version": "3.8.10"
  },
  "orig_nbformat": 4,
  "vscode": {
   "interpreter": {
    "hash": "5b3ded1ccb95c1d9bd405e7b823d9e85424cde40fbb5985eb47e999ef50e15b4"
   }
  }
 },
 "nbformat": 4,
 "nbformat_minor": 2
}
