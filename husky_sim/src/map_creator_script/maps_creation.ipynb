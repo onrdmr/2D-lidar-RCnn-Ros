{
 "cells": [
  {
   "attachments": {},
   "cell_type": "markdown",
   "metadata": {},
   "source": [
    "## create lots of room,this is debugging purpose notebook to see wall thickness and intersection while creating wals"
   ]
  },
  {
   "cell_type": "code",
   "execution_count": 1,
   "metadata": {
    "vscode": {
     "languageId": "python"
    }
   },
   "outputs": [],
   "source": [
    "from shapely import affinity\n",
    "import argparse\n",
    "import cv2\n",
    "import numpy as np\n",
    "import math\n",
    "from pcg_gazebo.simulation.world import ModelGroup\n",
    "from pcg_gazebo.parsers.sdf import create_sdf_element\n",
    "# import shutil\n",
    "from os import listdir, mkdir\n",
    "import xml.etree.ElementTree as gfg \n",
    "import subprocess\n",
    "import os\n",
    "from pcg_gazebo.generators.creators import extrude\n",
    "from pcg_gazebo.generators.shapes import random_points_to_triangulation\n",
    "# from pcg_gazebo.visualization import plot_shapely_geometry, plot_mesh\n",
    "from pcg_gazebo.generators import WorldGenerator\n",
    "from pcg_gazebo.utils import generate_random_string\n",
    "from numpy import random\n",
    "from math import pi as PI\n",
    "from shapely.geometry import Polygon, LineString, Point\n",
    "from numpy import random\n",
    "from math import pi as PI\n",
    "\n",
    "import numpy as np\n",
    "from matplotlib import pyplot as plt\n"
   ]
  },
  {
   "cell_type": "code",
   "execution_count": 2,
   "metadata": {
    "vscode": {
     "languageId": "python"
    }
   },
   "outputs": [],
   "source": [
    "RAND_MAP_CMD = \"random-map\""
   ]
  },
  {
   "cell_type": "code",
   "execution_count": 3,
   "metadata": {
    "vscode": {
     "languageId": "python"
    }
   },
   "outputs": [],
   "source": [
    "\n",
    "VERSION = \"1.0\" \n",
    "SDF_VERSION = \"1.6\"\n",
    "CONFIG_EMAIL = \"onur.demir2@std.yildiz.edu.tr\"\n",
    "CONFIG_AUTHOR_NAME = \"Onur Demir\"\n",
    "\n",
    "SINGLE_ROOM_ARG_COUNT = 3\n",
    "\n",
    "WALL_THICKNESS = 0.15\n",
    "WALL_HEIGHT = 2\n",
    "\n",
    "HUSKY_SIZE_X = 1.2#0.98740000\n",
    "HUSKY_SIZE_Y = 0.9#0.57090000\n",
    "\n",
    "stat_sign_factor = 1.645\n",
    "\n",
    "RAND_MAP_CMD = \"random-map\""
   ]
  },
  {
   "cell_type": "code",
   "execution_count": 4,
   "metadata": {
    "vscode": {
     "languageId": "python"
    }
   },
   "outputs": [],
   "source": [
    "\n",
    "parser = argparse.ArgumentParser(description='Process some integers.')\n",
    "# parser.add_argument('integers', metavar='N', type=int, nargs='+',\n",
    "#                     help='an integer for the accumulator')\n",
    "# parser.add_argument('--sum', dest='accumulate', action='store_const',\n",
    "#                     const=sum, default=max,\n",
    "#                     help='sum the integers (default: find the max)')\n",
    "\n",
    "\n",
    "lastWallSequence = None # static variable of lastWallSequence function\n",
    "\n",
    "parser.add_argument('--spawn-count', '-r', '--robot-count', type=int ,default=5)\n",
    "parser.add_argument('--scale-factor', '-s', type=float, default=10.0) # it must be greater than 10 otherwise robot can not move other rooms\n",
    "\n",
    "\n",
    "parser.add_argument('choice', choices=['single_room', 'multi_room'])\n",
    "\n",
    "parser.add_argument('room_args', metavar='N', type=int, nargs='+',\n",
    "                     help='single_room [number of point for triangulation] [min_bound] [max_bound] or multi_room [map_id]')\n",
    "\n",
    "parser.add_argument('--mesh' ,'-m' , action='store_true', help='distribute random mesh available.')\n",
    "\n",
    "parser.add_argument('--use-db','-mdb', action='store_true', help='use random mesh from  remote mesh databases')\n",
    "\n",
    "parser.add_argument('--asset-dir','--asset-dir-path','-dir', type=str, default=\"/home/onur/building_editor_models/\", help='gazebo asset directory path.')\n",
    "parser.add_argument('--wall-name', '-wn', type=str, default=\"wall\", help='wall name')\n",
    "\n",
    "parser.add_argument('--box', '-b', type=int, default=3, help='number of box in the map')\n",
    "parser.add_argument('--cylinder', '-c', type=int, default=3, help='number of cylinder in the map')\n",
    "\n",
    "\n",
    "\n",
    "args = parser.parse_args(\"multi_room 17\".split())"
   ]
  },
  {
   "cell_type": "code",
   "execution_count": 5,
   "metadata": {
    "vscode": {
     "languageId": "python"
    }
   },
   "outputs": [],
   "source": [
    "\n",
    "class HoughBundler:     \n",
    "    def __init__(self,min_distance=5,min_angle=2):\n",
    "        self.min_distance = min_distance\n",
    "        self.min_angle = min_angle\n",
    "    \n",
    "    def get_orientation(self, line):\n",
    "        orientation = math.atan2(abs((line[3] - line[1])), abs((line[2] - line[0])))\n",
    "        return math.degrees(orientation)\n",
    "\n",
    "    def check_is_line_different(self, line_1, groups, min_distance_to_merge, min_angle_to_merge):\n",
    "        for group in groups:\n",
    "            for line_2 in group:\n",
    "                if self.get_distance(line_2, line_1) < min_distance_to_merge:\n",
    "                    orientation_1 = self.get_orientation(line_1)\n",
    "                    orientation_2 = self.get_orientation(line_2)\n",
    "                    if abs(orientation_1 - orientation_2) < min_angle_to_merge:\n",
    "                        group.append(line_1)\n",
    "                        return False\n",
    "        return True\n",
    "\n",
    "    def distance_point_to_line(self, point, line):\n",
    "        px, py = point\n",
    "        x1, y1, x2, y2 = line\n",
    "\n",
    "        def line_magnitude(x1, y1, x2, y2):\n",
    "            line_magnitude = math.sqrt(math.pow((x2 - x1), 2) + math.pow((y2 - y1), 2))\n",
    "            return line_magnitude\n",
    "\n",
    "        lmag = line_magnitude(x1, y1, x2, y2)\n",
    "        if lmag < 0.00000001:\n",
    "            distance_point_to_line = 9999\n",
    "            return distance_point_to_line\n",
    "\n",
    "        u1 = (((px - x1) * (x2 - x1)) + ((py - y1) * (y2 - y1)))\n",
    "        u = u1 / (lmag * lmag)\n",
    "\n",
    "        if (u < 0.00001) or (u > 1):\n",
    "            #// closest point does not fall within the line segment, take the shorter distance\n",
    "            #// to an endpoint\n",
    "            ix = line_magnitude(px, py, x1, y1)\n",
    "            iy = line_magnitude(px, py, x2, y2)\n",
    "            if ix > iy:\n",
    "                distance_point_to_line = iy\n",
    "            else:\n",
    "                distance_point_to_line = ix\n",
    "        else:\n",
    "            # Intersecting point is on the line, use the formula\n",
    "            ix = x1 + u * (x2 - x1)\n",
    "            iy = y1 + u * (y2 - y1)\n",
    "            distance_point_to_line = line_magnitude(px, py, ix, iy)\n",
    "\n",
    "        return distance_point_to_line\n",
    "\n",
    "    def get_distance(self, a_line, b_line):\n",
    "        dist1 = self.distance_point_to_line(a_line[:2], b_line)\n",
    "        dist2 = self.distance_point_to_line(a_line[2:], b_line)\n",
    "        dist3 = self.distance_point_to_line(b_line[:2], a_line)\n",
    "        dist4 = self.distance_point_to_line(b_line[2:], a_line)\n",
    "\n",
    "        return min(dist1, dist2, dist3, dist4)\n",
    "\n",
    "    def merge_lines_into_groups(self, lines):\n",
    "        groups = []  # all lines groups are here\n",
    "        # first line will create new group every time\n",
    "        groups.append([lines[0]])\n",
    "        # if line is different from existing gropus, create a new group\n",
    "        for line_new in lines[1:]:\n",
    "            if self.check_is_line_different(line_new, groups, self.min_distance, self.min_angle):\n",
    "                groups.append([line_new])\n",
    "\n",
    "        return groups\n",
    "\n",
    "    def merge_line_segments(self, lines):\n",
    "        orientation = self.get_orientation(lines[0])\n",
    "      \n",
    "        if(len(lines) == 1):\n",
    "            return np.block([[lines[0][:2], lines[0][2:]]])\n",
    "\n",
    "        points = []\n",
    "        for line in lines:\n",
    "            points.append(line[:2])\n",
    "            points.append(line[2:])\n",
    "        if 45 < orientation <= 90:\n",
    "            #sort by y\n",
    "            points = sorted(points, key=lambda point: point[1])\n",
    "        else:\n",
    "            #sort by x\n",
    "            points = sorted(points, key=lambda point: point[0])\n",
    "\n",
    "        return np.block([[points[0],points[-1]]])\n",
    "\n",
    "    def process_lines(self, lines):\n",
    "        lines_horizontal  = []\n",
    "        lines_vertical  = []\n",
    "  \n",
    "        for line_i in [l[0] for l in lines]:\n",
    "            orientation = self.get_orientation(line_i)\n",
    "            # if vertical\n",
    "            if 45 < orientation <= 90:\n",
    "                lines_vertical.append(line_i)\n",
    "            else:\n",
    "                lines_horizontal.append(line_i)\n",
    "\n",
    "        lines_vertical  = sorted(lines_vertical , key=lambda line: line[1])\n",
    "        lines_horizontal  = sorted(lines_horizontal , key=lambda line: line[0])\n",
    "        merged_lines_all = []\n",
    "\n",
    "        # for each cluster in vertical and horizantal lines leave only one line\n",
    "        for i in [lines_horizontal, lines_vertical]:\n",
    "            if len(i) > 0:\n",
    "                groups = self.merge_lines_into_groups(i)\n",
    "                merged_lines = []\n",
    "                for group in groups:\n",
    "                    merged_lines.append(self.merge_line_segments(group))\n",
    "                merged_lines_all.extend(merged_lines)\n",
    "                    \n",
    "        return np.asarray(merged_lines_all)\n"
   ]
  },
  {
   "cell_type": "code",
   "execution_count": 20,
   "metadata": {
    "vscode": {
     "languageId": "python"
    }
   },
   "outputs": [],
   "source": [
    "\n",
    "def checkMultiRoomIntersection(lines, scale_factor, polygon):\n",
    "\n",
    "    for j, line in enumerate(lines):\n",
    "        line = line[0]\n",
    "        # x_diff = (line[0] - line[2]) * scale_factor\n",
    "        # y_diff = (line[1] - line[3]) * scale_factor\n",
    "        \n",
    "        # yaw_line = math.atan2(y_diff, x_diff)\n",
    "        # angle = yaw_line\n",
    "        # x = 0\n",
    "        # y = WALL_THICKNESS / 2\n",
    "        # # Rotation matrix multiplication to get rotated x & y\n",
    "        # xr = (x * math.cos(angle)) - (y * math.sin(angle))\n",
    "        # yr = (x * math.sin(angle)) + (y * math.cos(angle))\n",
    "\n",
    "        # line = Polygon(\n",
    "        # (\n",
    "        #     (line[0] * scale_factor-xr, line[1] * scale_factor-yr, 0),\n",
    "        #     (line[0] * scale_factor-xr, line[1] * scale_factor+yr, 0),\n",
    "        #     (line[2] * scale_factor+xr, line[3] * scale_factor+yr, 0),\n",
    "        #     (line[2] * scale_factor+xr, line[3] * scale_factor-yr, 0)\n",
    "        # )\n",
    "        # )\n",
    "\n",
    "        line = LineString([Point(line[0] * scale_factor, line[1] * scale_factor), Point(line[2] * scale_factor, line[3] * scale_factor)])\n",
    "        line = line.buffer(WALL_THICKNESS + 0.15)\n",
    "        intersects=polygon.intersects(line)\n",
    "\n",
    "        if(intersects):\n",
    "            return True\n",
    "\n",
    "    return False"
   ]
  },
  {
   "cell_type": "code",
   "execution_count": 6,
   "metadata": {
    "vscode": {
     "languageId": "python"
    }
   },
   "outputs": [],
   "source": [
    "def createFactoryEngine():\n",
    "    world_gen = WorldGenerator()\n",
    "    world_gen.init()\n",
    "    world_gen.engines.reset()\n",
    "    return world_gen"
   ]
  },
  {
   "cell_type": "code",
   "execution_count": 7,
   "metadata": {
    "vscode": {
     "languageId": "python"
    }
   },
   "outputs": [],
   "source": [
    "def detectHoughLines(image, threshold=5, minLineLength = 5, maxLineGap=5 , rho=1):\n",
    " \n",
    "    # threshold=5#80\n",
    "    # minLineLength=5#30\n",
    "    # maxLineGap=10\n",
    "    # rho=1\n",
    "    # Grayscale and Canny Edges extracted\n",
    "\n",
    "\n",
    "    #edges = cv2.Canny(gray, 100, 170, apertureSize = 3)\n",
    "    # Grayscale and Canny Edges extracted\n",
    "    edgesY = cv2.Sobel(image, ddepth=cv2.CV_64F, dx=0, dy=1, ksize=5)\n",
    "    edgesX = cv2.Sobel(image, ddepth=cv2.CV_64F, dx=1, dy=0, ksize=5)\n",
    "    logical_x = np.logical_or(edgesX<0 , edgesX >0)\n",
    "    logical_y = np.logical_or(edgesY<0 , edgesY >0)\n",
    "    edges = np.logical_or(logical_x, logical_y)\n",
    "\n",
    "    edges = np.uint8(edges)\n",
    "    edges = edges * 255\n",
    "    # Again we use the same rho and theta accuracies\n",
    "    # However, we specific a minimum vote (pts along line) of 100\n",
    "    # and Min line length of 3 pixels and max gap between lines of 25 pixels\n",
    "    lines = cv2.HoughLinesP(edges, rho=rho, theta=np.pi / 180, threshold=threshold, minLineLength=minLineLength, maxLineGap=maxLineGap)\n",
    "\n",
    "    # lines = cv2.HoughLinesP(edges, rho=rho, theta=np.pi / 180, threshold=threshold, minLineLength=minLineLength, maxLineGap=maxLineGap)\n",
    "    bundler = HoughBundler(min_distance=10,min_angle=5)\n",
    "    lines = bundler.process_lines(lines)\n",
    "\n",
    "    return lines"
   ]
  },
  {
   "cell_type": "code",
   "execution_count": 8,
   "metadata": {
    "vscode": {
     "languageId": "python"
    }
   },
   "outputs": [],
   "source": [
    "def add_wall(walls_model, wall_param, width, height, wall_name='Wall') :\n",
    "\n",
    "    box = create_sdf_element('box')\n",
    "    box.size = [wall_param['dist'], width, height]\n",
    "    collision = create_sdf_element('collision')\n",
    "    collision.geometry.box = box\n",
    "    visual = create_sdf_element('visual')\n",
    "    visual.geometry.box = box\n",
    "    walls_model.add_link(wall_name)\n",
    "    link = walls_model.get_link_by_name(wall_name)\n",
    "    link.collision = collision\n",
    "    link.visual = visual\n",
    "    link.pose = [wall_param['x'], wall_param['y'], wall_param['z'], wall_param['roll'],wall_param['pitch'],wall_param['yaw']]\n",
    "    link.add_collision(name=\"collision\", collision=collision)\n",
    "    link.add_visual(name=\"visual\", visual=visual)\n",
    "    \n",
    "    return walls_model\n"
   ]
  },
  {
   "cell_type": "code",
   "execution_count": 9,
   "metadata": {
    "vscode": {
     "languageId": "python"
    }
   },
   "outputs": [],
   "source": [
    "def lastWallSequenceInAsset():\n",
    "    global lastWallSequence\n",
    "    if lastWallSequence == None: \n",
    "        list_dir = listdir(args.asset_dir)\n",
    "        if(len(list_dir) == 0) :\n",
    "            lastWallSequence = 0\n",
    "            return 0\n",
    "        \n",
    "        list_dir = [os.path.join(args.asset_dir, f) for f in list_dir]\n",
    "        list_dir.sort(key=lambda x: os.path.getmtime(x))\n",
    "        number = \"\".join([i for i in list_dir[-1] if i.isdigit() and int(i) < 10 and int(i) > -1 ])\n",
    "        \n",
    "        if(number==\"\"):\n",
    "            lastWallSequence = 0\n",
    "            return 0\n",
    "        \n",
    "        lastWallSequence = int(number) \n",
    "    return lastWallSequence\n"
   ]
  },
  {
   "cell_type": "code",
   "execution_count": 10,
   "metadata": {
    "vscode": {
     "languageId": "python"
    }
   },
   "outputs": [],
   "source": [
    "def createGazeboAssetModelConfig():\n",
    "    path = args.asset_dir\n",
    "    root = gfg.Element(\"model\")\n",
    "\n",
    "    print(\"asset model is creating for folder \" + path)\n",
    "\n",
    "    name = gfg.Element(\"name\")\n",
    "    last_wall_seq = lastWallSequenceInAsset()\n",
    "    name.text = args.wall_name + (str(int(last_wall_seq)+1) if last_wall_seq != None else \"1\")\n",
    "    path = path+name.text + \"/\"\n",
    "    mkdir(path)\n",
    "\n",
    "    print(\"wall model name is \" + name.text)\n",
    "\n",
    "\n",
    "    root.append (name)\n",
    "        \n",
    "    version = gfg.Element(\"version\")\n",
    "    version.text = VERSION\n",
    "    root.append(version)\n",
    "\n",
    "    sdf = gfg.Element(\"sdf\")\n",
    "    sdf.text = \"model.sdf\"\n",
    "    sdf.set(\"version\",SDF_VERSION)\n",
    "    root.append(sdf)\n",
    "\n",
    "    author = gfg.Element(\"author\")\n",
    "\n",
    "    a_name = gfg.SubElement(author, \"name\")\n",
    "    a_name.text = CONFIG_AUTHOR_NAME\n",
    "    a_email = gfg.SubElement(author, \"email\")\n",
    "    a_email.text = CONFIG_EMAIL\n",
    "\n",
    "    description = gfg.Element(\"description\")\n",
    "    description.text = \"Auto generated maps.\"\n",
    "\n",
    "    root.append(author)\n",
    "    root.append(description)\n",
    "\n",
    "    model_sdf_path = path + \"model.config\"\n",
    "    f = open(model_sdf_path, \"w\")\n",
    "    \n",
    "    f.write(gfg.tostring(root, encoding='unicode'))\n",
    "    f.close()\n",
    "\n",
    "    return path"
   ]
  },
  {
   "cell_type": "code",
   "execution_count": 18,
   "metadata": {
    "vscode": {
     "languageId": "python"
    }
   },
   "outputs": [],
   "source": [
    "def removeIf(list, value):\n",
    "    if list.count(value) > 0 : \n",
    "        list.remove(value)\n",
    "    return list\n",
    "\n",
    "\n",
    "\n",
    "def createRandomRobotPolygonInMap(centroid, bounds):\n",
    "    rand_x_left = random.normal(centroid.x, abs(bounds[0] - centroid.x)/stat_sign_factor )\n",
    "    rand_x_right = random.normal(centroid.x, abs(bounds[2] - centroid.x)/stat_sign_factor )\n",
    "    rand_x = (rand_x_left + rand_x_right) / 2\n",
    "\n",
    "    rand_y_left = random.normal(centroid.y, abs(bounds[1] - centroid.y)/stat_sign_factor )\n",
    "    rand_y_right = random.normal(centroid.y, abs(bounds[3] - centroid.y)/stat_sign_factor )\n",
    "    rand_y = (rand_y_left + rand_y_right) / 2\n",
    "\n",
    "    rand_yaw=random.uniform(-PI,PI)\n",
    "\n",
    "    dist_bound_x = HUSKY_SIZE_X / 2\n",
    "    dist_bound_y = HUSKY_SIZE_Y / 2 \n",
    "\n",
    "    coord = (\n",
    "    (rand_x - dist_bound_x, rand_y-dist_bound_y ),\n",
    "    (rand_x - dist_bound_x, rand_y+dist_bound_y ),\n",
    "    (rand_x + dist_bound_x, rand_y+dist_bound_y),\n",
    "    (rand_x + dist_bound_x, rand_y-dist_bound_y) ) \n",
    "    polygon = Polygon(coord)\n",
    "\n",
    "    \n",
    "    # Rotate 30 degrees CCW from origin at the center of bbox\n",
    "    polygon = affinity.rotate(polygon, np.rad2deg(rand_yaw), 'center')\n",
    "    print(polygon)\n",
    "    position_tuple = (rand_x, rand_y, rand_yaw)\n",
    "    return polygon, position_tuple\n",
    "\n",
    "def checkRandomRobotPosition(wall_model_shapely, robotPolygon):\n",
    "    return wall_model_shapely.contains(robotPolygon)\n",
    "\n",
    "def add_assets(world_gen):\n",
    "\n",
    "    world_gen.add_asset(\n",
    "        tag='static_box',\n",
    "        description=dict(\n",
    "            type='box',\n",
    "            args=dict(\n",
    "                size=\"5 * __import__('pcg_gazebo').random.rand(3)\",\n",
    "                name='cuboid',\n",
    "                mass=\"max(0.1, __import__('pcg_gazebo').random.rand())\",\n",
    "                color='xkcd'\n",
    "            )\n",
    "        )\n",
    "    )\n",
    "    world_gen.add_asset(\n",
    "    tag='static_cylinder',\n",
    "    description=dict(\n",
    "        type='cylinder',\n",
    "        args=dict(\n",
    "            length=\"2 * __import__('pcg_gazebo').random.rand()\",\n",
    "            radius=\"2 * __import__('pcg_gazebo').random.rand()\",\n",
    "            name='cylinder',\n",
    "            color='xkcd'\n",
    "        )\n",
    "        )\n",
    "    )\n",
    "    print('Asset is available for world generation(static_cylinder,static_box)=', 'static_cylinder' in world_gen.assets.tags , 'static_box' in world_gen.assets.tags)\n"
   ]
  },
  {
   "cell_type": "code",
   "execution_count": 12,
   "metadata": {
    "vscode": {
     "languageId": "python"
    }
   },
   "outputs": [],
   "source": [
    "def imshow(title = \"Image\", image = None, size = 10):\n",
    "    w, h = image.shape[0], image.shape[1]\n",
    "    aspect_ratio = w/h\n",
    "    plt.figure(figsize=(size * aspect_ratio,size))\n",
    "    plt.imshow(image)\n",
    "    plt.title(title)\n",
    "    plt.show()"
   ]
  },
  {
   "cell_type": "code",
   "execution_count": 13,
   "metadata": {
    "vscode": {
     "languageId": "python"
    }
   },
   "outputs": [
    {
     "data": {
      "text/plain": [
       "'/home/onur/2D-lidar-RCnn-Ros/husky_sim/src/map_creator_script'"
      ]
     },
     "execution_count": 13,
     "metadata": {},
     "output_type": "execute_result"
    }
   ],
   "source": [
    "__file__ = os.getcwd()\n",
    "__file__"
   ]
  },
  {
   "cell_type": "code",
   "execution_count": 14,
   "metadata": {
    "vscode": {
     "languageId": "python"
    }
   },
   "outputs": [
    {
     "name": "stdout",
     "output_type": "stream",
     "text": [
      "starting random map creation...\n",
      "b'Random Map Generator\n",
      "Settings:\n",
      "Map Id: 17\n",
      "/home/onur/2D-lidar-RCnn-Ros/husky_sim/src/map_creator_script/nav2_random_map_generator/random_world/media/materials/texture/random_world.png\n"
     ]
    },
    {
     "data": {
      "image/png": "[encoded data removed]",
      "text/plain": [
       "<Figure size 1000x1000 with 1 Axes>"
      ]
     },
     "metadata": {},
     "output_type": "display_data"
    }
   ],
   "source": [
    "print(\"starting random map creation...\")\n",
    "py_path = __file__\n",
    "# print(py_path)\n",
    "# print(py_path+'/nav2_random_map_generator/src')\n",
    "# os.chdir(py_path+'/nav2_random_map_generator/src')\n",
    "p_image = subprocess.Popen(\"./\" + RAND_MAP_CMD + \" \" + str(args.room_args[0])+\" 0 0 5 512 512 0 0 0 0 0 0\", cwd=py_path+\"/nav2_random_map_generator/src\", stdout=subprocess.PIPE, shell=True)\n",
    "\n",
    "# p_image.wait()\n",
    "out, err = p_image.communicate()\n",
    "\n",
    "print(\"\\n\".join(str(out).split('\\\\n')[0:3]))\n",
    "\n",
    "# p_image.wait()\n",
    "\n",
    "print(py_path + '/nav2_random_map_generator/random_world/media/materials/texture/random_world.png')\n",
    "\n",
    "image = cv2.imread(py_path + '/nav2_random_map_generator/random_world/media/materials/texture/random_world.png')\n",
    "imshow(\"aa\",image)\n",
    "image = cv2.cvtColor(image, cv2.COLOR_BGR2GRAY)\n",
    "\n",
    "lines = detectHoughLines(image)\n"
   ]
  },
  {
   "cell_type": "code",
   "execution_count": 15,
   "metadata": {
    "vscode": {
     "languageId": "python"
    }
   },
   "outputs": [
    {
     "data": {
      "text/plain": [
       "array([[255, 255, 255, ..., 255, 255, 255],\n",
       "       [255, 255, 255, ..., 255, 255, 255],\n",
       "       [255, 255, 255, ..., 255, 255, 255],\n",
       "       ...,\n",
       "       [255, 255, 255, ..., 255, 255, 255],\n",
       "       [255, 255, 255, ..., 255, 255, 255],\n",
       "       [255, 255, 255, ..., 255, 255, 255]], dtype=uint8)"
      ]
     },
     "execution_count": 15,
     "metadata": {},
     "output_type": "execute_result"
    }
   ],
   "source": [
    "image"
   ]
  },
  {
   "cell_type": "code",
   "execution_count": 16,
   "metadata": {
    "vscode": {
     "languageId": "python"
    }
   },
   "outputs": [],
   "source": [
    "min_len_map=min(image.shape[0:1])\n",
    "scale_factor = 1/(min_len_map/args.scale_factor)\n",
    "\n",
    "wall_sdf_ = create_sdf_element('sdf')\n",
    "walls_model = create_sdf_element('model')\n",
    "walls_model.static = True\n",
    "walls_model.allow_auto_disable = True\n",
    "\n",
    "for i,line in enumerate(lines):\n",
    "    line = line[0]\n",
    "    x_cent = ((line[0] + line[2]) / 2) * scale_factor\n",
    "    y_cent = ((line[1] + line[3]) / 2) * scale_factor\n",
    "    x_diff = (line[2] - line[0]) * scale_factor\n",
    "    y_diff = (line[3] - line[1]) * scale_factor\n",
    "    dist = math.sqrt(x_diff * x_diff + y_diff * y_diff)\n",
    "    yaw = math.atan2(y_diff, x_diff)\n",
    "    pitch = 0\n",
    "    roll = 0\n",
    "    wall_param={'x': x_cent, 'y': y_cent,'z':0, 'dist': dist, 'yaw': yaw, 'pitch': pitch,'roll': roll}\n",
    "    walls_model = add_wall(walls_model, wall_param, wall_name='Wall_' + str(i), width=WALL_THICKNESS, height=WALL_HEIGHT)\n",
    "\n",
    "\n",
    "    "
   ]
  },
  {
   "cell_type": "code",
   "execution_count": 19,
   "metadata": {
    "vscode": {
     "languageId": "python"
    }
   },
   "outputs": [
    {
     "name": "stdout",
     "output_type": "stream",
     "text": [
      "asset model is creating for folder /home/onur/building_editor_models/\n"
     ]
    },
    {
     "ename": "FileExistsError",
     "evalue": "[Errno 17] File exists: '/home/onur/building_editor_models/wall2/'",
     "output_type": "error",
     "traceback": [
      "\u001b[0;31m---------------------------------------------------------------------------\u001b[0m",
      "\u001b[0;31mFileExistsError\u001b[0m                           Traceback (most recent call last)",
      "Cell \u001b[0;32mIn [19], line 1\u001b[0m\n\u001b[0;32m----> 1\u001b[0m path \u001b[39m=\u001b[39m createGazeboAssetModelConfig()\n\u001b[1;32m      3\u001b[0m last_wall_seq \u001b[39m=\u001b[39m lastWallSequenceInAsset()\n\u001b[1;32m      4\u001b[0m walls_model_name \u001b[39m=\u001b[39m \u001b[39m\"\u001b[39m\u001b[39mwalls\u001b[39m\u001b[39m\"\u001b[39m \u001b[39m+\u001b[39m (\u001b[39mstr\u001b[39m(\u001b[39mint\u001b[39m(last_wall_seq)\u001b[39m+\u001b[39m\u001b[39m1\u001b[39m) \u001b[39mif\u001b[39;00m last_wall_seq \u001b[39m!=\u001b[39m \u001b[39mNone\u001b[39;00m \u001b[39melse\u001b[39;00m \u001b[39m\"\u001b[39m\u001b[39m1\u001b[39m\u001b[39m\"\u001b[39m)\n",
      "Cell \u001b[0;32mIn [10], line 11\u001b[0m, in \u001b[0;36mcreateGazeboAssetModelConfig\u001b[0;34m()\u001b[0m\n\u001b[1;32m      9\u001b[0m name\u001b[39m.\u001b[39mtext \u001b[39m=\u001b[39m args\u001b[39m.\u001b[39mwall_name \u001b[39m+\u001b[39m (\u001b[39mstr\u001b[39m(\u001b[39mint\u001b[39m(last_wall_seq)\u001b[39m+\u001b[39m\u001b[39m1\u001b[39m) \u001b[39mif\u001b[39;00m last_wall_seq \u001b[39m!=\u001b[39m \u001b[39mNone\u001b[39;00m \u001b[39melse\u001b[39;00m \u001b[39m\"\u001b[39m\u001b[39m1\u001b[39m\u001b[39m\"\u001b[39m)\n\u001b[1;32m     10\u001b[0m path \u001b[39m=\u001b[39m path\u001b[39m+\u001b[39mname\u001b[39m.\u001b[39mtext \u001b[39m+\u001b[39m \u001b[39m\"\u001b[39m\u001b[39m/\u001b[39m\u001b[39m\"\u001b[39m\n\u001b[0;32m---> 11\u001b[0m mkdir(path)\n\u001b[1;32m     13\u001b[0m \u001b[39mprint\u001b[39m(\u001b[39m\"\u001b[39m\u001b[39mwall model name is \u001b[39m\u001b[39m\"\u001b[39m \u001b[39m+\u001b[39m name\u001b[39m.\u001b[39mtext)\n\u001b[1;32m     16\u001b[0m root\u001b[39m.\u001b[39mappend (name)\n",
      "\u001b[0;31mFileExistsError\u001b[0m: [Errno 17] File exists: '/home/onur/building_editor_models/wall2/'"
     ]
    }
   ],
   "source": [
    "\n",
    "path = createGazeboAssetModelConfig()\n",
    "\n",
    "last_wall_seq = lastWallSequenceInAsset()\n",
    "walls_model_name = \"walls\" + (str(int(last_wall_seq)+1) if last_wall_seq != None else \"1\")\n",
    "wall_sdf_.add_model(walls_model_name, walls_model)\n",
    "wall_sdf_.export_xml(path +  \"/model.sdf\")\n",
    "\n",
    "walls_model=ModelGroup.from_sdf(wall_sdf_)\n",
    "\n",
    "world_gen = None\n",
    "if args.mesh:\n",
    "    world_gen = createFactoryEngine()\n",
    "\n",
    "    model_w_polygon = walls_model.models[walls_model_name].get_footprint()\n",
    "    model_w_polygon_free_space=model_w_polygon[walls_model_name]\n",
    "    walls_model = extrude(\n",
    "        polygon=model_w_polygon_free_space,\n",
    "        thickness=0.20,\n",
    "        height=2,\n",
    "        pose=[0, 0, 1 , 0, 0, 0],\n",
    "        extrude_boundaries=True,\n",
    "        color='xkcd')\n",
    "    walls_model.name = 'walls'\n",
    "\n",
    "    world_gen.add_constraint(\n",
    "        name='room_workspace',\n",
    "        type='workspace',\n",
    "        frame='world',\n",
    "        geometry_type='polygon',\n",
    "        polygon=model_w_polygon_free_space\n",
    "    )\n",
    "    \n",
    "    world_gen.add_constraint(\n",
    "        name='tangent_to_ground_plane',\n",
    "        type='tangent',\n",
    "        frame='world',\n",
    "        reference=dict(\n",
    "            type='plane',\n",
    "            args=dict(\n",
    "                origin=[0, 0, 0],\n",
    "                normal=[0, 0, 1]\n",
    "            )\n",
    "        )\n",
    "    )\n",
    "\n",
    "    add_assets(world_gen)\n",
    "\n",
    "\n",
    "    NUM_BOXES = args.box\n",
    "    NUM_CYLINDER = args.cylinder\n",
    "\n",
    "    placement_policy = dict(\n",
    "        models=['static_box', 'static_cylinder'],\n",
    "        config=[\n",
    "            dict(\n",
    "                dofs=['x', 'y'],            \n",
    "                tag='workspace',\n",
    "                workspace='room_workspace'\n",
    "            ),\n",
    "            dict(\n",
    "                dofs=['yaw'],            \n",
    "                tag='uniform',                            \n",
    "                min=-3.141592653589793,\n",
    "                max=3.141592653589793               \n",
    "            )\n",
    "        ]\n",
    "    )\n",
    "\n",
    "    world_gen.add_engine(\n",
    "        tag=generate_random_string(5),\n",
    "        engine_name='random_pose',\n",
    "        models=['static_box', 'static_cylinder'],\n",
    "        max_num=dict(\n",
    "            static_box=NUM_BOXES,\n",
    "            static_cylinder=NUM_CYLINDER),\n",
    "        model_picker='random',\n",
    "        no_collision=True,\n",
    "        policies=[placement_policy],\n",
    "        constraints=[\n",
    "            dict(\n",
    "                model='static_box',\n",
    "                constraint='tangent_to_ground_plane'),\n",
    "            dict(\n",
    "                model='static_cylinder',\n",
    "                constraint='tangent_to_ground_plane')\n",
    "        ]\n",
    "    )\n",
    "\n",
    "    world_gen.run_engines(attach_models=True)\n",
    "\n",
    "bounds_l = walls_model.get_bounds()\n",
    "bounds = (bounds_l[0][0], bounds_l[0][1], bounds_l[1][0], bounds_l[1][1] )\n",
    "centroid = lambda: 0 # struct of x and y with centroid (anonymous class)\n",
    "centroid.x = (bounds_l[0][0] +  bounds_l[1][0]) / 2\n",
    "centroid.y = (bounds_l[0][1] +  bounds_l[1][1]) / 2"
   ]
  },
  {
   "cell_type": "code",
   "execution_count": null,
   "metadata": {
    "vscode": {
     "languageId": "python"
    }
   },
   "outputs": [
    {
     "ename": "AttributeError",
     "evalue": "'NoneType' object has no attribute 'world'",
     "output_type": "error",
     "traceback": [
      "\u001b[0;31m---------------------------------------------------------------------------\u001b[0m",
      "\u001b[0;31mAttributeError\u001b[0m                            Traceback (most recent call last)",
      "Cell \u001b[0;32mIn [53], line 1\u001b[0m\n\u001b[0;32m----> 1\u001b[0m world_gen\u001b[39m.\u001b[39;49mworld\u001b[39m.\u001b[39mcreate_scene()\u001b[39m.\u001b[39mshow()\n",
      "\u001b[0;31mAttributeError\u001b[0m: 'NoneType' object has no attribute 'world'"
     ]
    }
   ],
   "source": [
    "world_gen.world.create_scene().show()"
   ]
  },
  {
   "cell_type": "code",
   "execution_count": null,
   "metadata": {
    "vscode": {
     "languageId": "python"
    }
   },
   "outputs": [
    {
     "ename": "NameError",
     "evalue": "name 'world_gen' is not defined",
     "output_type": "error",
     "traceback": [
      "\u001b[0;31m---------------------------------------------------------------------------\u001b[0m",
      "\u001b[0;31mNameError\u001b[0m                                 Traceback (most recent call last)",
      "Cell \u001b[0;32mIn [62], line 1\u001b[0m\n\u001b[0;32m----> 1\u001b[0m sub_models \u001b[39m=\u001b[39m \u001b[39msorted\u001b[39m(world_gen\u001b[39m.\u001b[39mworld\u001b[39m.\u001b[39mmodels)\n\u001b[1;32m      2\u001b[0m sub_models \u001b[39m=\u001b[39m removeIf(sub_models, \u001b[39m'\u001b[39m\u001b[39mwalls/walls_model\u001b[39m\u001b[39m'\u001b[39m)\n\u001b[1;32m      3\u001b[0m sub_models \u001b[39m=\u001b[39m removeIf(sub_models, \u001b[39m'\u001b[39m\u001b[39mrobot\u001b[39m\u001b[39m'\u001b[39m)\n",
      "\u001b[0;31mNameError\u001b[0m: name 'world_gen' is not defined"
     ]
    }
   ],
   "source": [
    "sub_models = sorted(world_gen.world.models)\n",
    "sub_models = removeIf(sub_models, 'walls/walls_model')\n",
    "sub_models = removeIf(sub_models, 'robot')\n",
    "sub_models = removeIf(sub_models, 'ground_plane')"
   ]
  },
  {
   "cell_type": "code",
   "execution_count": 56,
   "metadata": {
    "vscode": {
     "languageId": "python"
    }
   },
   "outputs": [
    {
     "ename": "AttributeError",
     "evalue": "'NoneType' object has no attribute 'world'",
     "output_type": "error",
     "traceback": [
      "\u001b[0;31m---------------------------------------------------------------------------\u001b[0m",
      "\u001b[0;31mAttributeError\u001b[0m                            Traceback (most recent call last)",
      "Cell \u001b[0;32mIn [56], line 1\u001b[0m\n\u001b[0;32m----> 1\u001b[0m sub_models \u001b[39m=\u001b[39m \u001b[39msorted\u001b[39m(world_gen\u001b[39m.\u001b[39;49mworld\u001b[39m.\u001b[39mmodels)\n\u001b[1;32m      2\u001b[0m sub_models \u001b[39m=\u001b[39m removeIf(sub_models, \u001b[39m'\u001b[39m\u001b[39mwalls/walls_model\u001b[39m\u001b[39m'\u001b[39m)\n\u001b[1;32m      3\u001b[0m sub_models \u001b[39m=\u001b[39m removeIf(sub_models, \u001b[39m'\u001b[39m\u001b[39mrobot\u001b[39m\u001b[39m'\u001b[39m)\n",
      "\u001b[0;31mAttributeError\u001b[0m: 'NoneType' object has no attribute 'world'"
     ]
    }
   ],
   "source": [
    "if(world_gen == None): \n",
    "    for i in range(args.spawn_count):\n",
    "        polygon, robot_pos_yaw = createRandomRobotPolygonInMap(centroid, bounds)\n",
    "        while(checkMultiRoomIntersection( lines, scale_factor, polygon)):\n",
    "            polygon, robot_pos_yaw = createRandomRobotPolygonInMap(centroid, bounds)\n",
    "\n",
    "\n",
    "        robot_file=open(path + '/robot_position_'+str(i), 'w')\n",
    "        robot_file.write(\" \".join(map(str,robot_pos_yaw)))\n",
    "        robot_file.close()\n"
   ]
  },
  {
   "cell_type": "code",
   "execution_count": 49,
   "metadata": {
    "vscode": {
     "languageId": "python"
    }
   },
   "outputs": [
    {
     "data": {
      "text/plain": [
       "'/home/onur/building_editor_models/'"
      ]
     },
     "execution_count": 49,
     "metadata": {},
     "output_type": "execute_result"
    }
   ],
   "source": []
  },
  {
   "cell_type": "code",
   "execution_count": null,
   "metadata": {
    "vscode": {
     "languageId": "python"
    }
   },
   "outputs": [],
   "source": []
  }
 ],
 "metadata": {
  "kernelspec": {
   "display_name": "Python 3 (ipykernel)",
   "language": "python",
   "name": "python3"
  },
  "orig_nbformat": 4,
  "vscode": {
   "interpreter": {
    "hash": "5b3ded1ccb95c1d9bd405e7b823d9e85424cde40fbb5985eb47e999ef50e15b4"
   }
  }
 },
 "nbformat": 4,
 "nbformat_minor": 2
}
